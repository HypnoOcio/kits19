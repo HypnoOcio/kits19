{
  "nbformat": 4,
  "nbformat_minor": 0,
  "metadata": {
    "colab": {
      "name": "testing_model_weights.ipynb",
      "provenance": [],
      "collapsed_sections": [],
      "machine_shape": "hm"
    },
    "kernelspec": {
      "name": "python3",
      "display_name": "Python 3"
    },
    "accelerator": "GPU",
    "widgets": {
      "application/vnd.jupyter.widget-state+json": {
        "40cac1468ddc47d0a5d3fa737b78e2be": {
          "model_module": "@jupyter-widgets/controls",
          "model_name": "VBoxModel",
          "state": {
            "_view_name": "VBoxView",
            "_dom_classes": [
              "widget-interact"
            ],
            "_model_name": "VBoxModel",
            "_view_module": "@jupyter-widgets/controls",
            "_model_module_version": "1.5.0",
            "_view_count": null,
            "_view_module_version": "1.5.0",
            "box_style": "",
            "layout": "IPY_MODEL_68c5338e571247b6b55ad1786a261507",
            "_model_module": "@jupyter-widgets/controls",
            "children": [
              "IPY_MODEL_d325c676848d4e9dbaf1017b07ba1fa4",
              "IPY_MODEL_913383acd12e406583d1da60faab894e"
            ]
          }
        },
        "68c5338e571247b6b55ad1786a261507": {
          "model_module": "@jupyter-widgets/base",
          "model_name": "LayoutModel",
          "state": {
            "_view_name": "LayoutView",
            "grid_template_rows": null,
            "right": null,
            "justify_content": null,
            "_view_module": "@jupyter-widgets/base",
            "overflow": null,
            "_model_module_version": "1.2.0",
            "_view_count": null,
            "flex_flow": null,
            "width": null,
            "min_width": null,
            "border": null,
            "align_items": null,
            "bottom": null,
            "_model_module": "@jupyter-widgets/base",
            "top": null,
            "grid_column": null,
            "overflow_y": null,
            "overflow_x": null,
            "grid_auto_flow": null,
            "grid_area": null,
            "grid_template_columns": null,
            "flex": null,
            "_model_name": "LayoutModel",
            "justify_items": null,
            "grid_row": null,
            "max_height": null,
            "align_content": null,
            "visibility": null,
            "align_self": null,
            "height": null,
            "min_height": null,
            "padding": null,
            "grid_auto_rows": null,
            "grid_gap": null,
            "max_width": null,
            "order": null,
            "_view_module_version": "1.2.0",
            "grid_template_areas": null,
            "object_position": null,
            "object_fit": null,
            "grid_auto_columns": null,
            "margin": null,
            "display": null,
            "left": null
          }
        },
        "d325c676848d4e9dbaf1017b07ba1fa4": {
          "model_module": "@jupyter-widgets/controls",
          "model_name": "IntSliderModel",
          "state": {
            "_view_name": "IntSliderView",
            "style": "IPY_MODEL_ef2aed9ae7804881bd04a4dc4c5bcba3",
            "_dom_classes": [],
            "description": "slice_num",
            "step": 1,
            "_model_name": "IntSliderModel",
            "orientation": "horizontal",
            "max": 139,
            "_view_module": "@jupyter-widgets/controls",
            "_model_module_version": "1.5.0",
            "value": 69,
            "_view_count": null,
            "disabled": false,
            "_view_module_version": "1.5.0",
            "min": 0,
            "continuous_update": true,
            "readout_format": "d",
            "description_tooltip": null,
            "readout": true,
            "_model_module": "@jupyter-widgets/controls",
            "layout": "IPY_MODEL_f086c986f063441f9a2f0182472a8455"
          }
        },
        "913383acd12e406583d1da60faab894e": {
          "model_module": "@jupyter-widgets/output",
          "model_name": "OutputModel",
          "state": {
            "_view_name": "OutputView",
            "msg_id": "",
            "_dom_classes": [],
            "_model_name": "OutputModel",
            "outputs": [
              {
                "output_type": "stream",
                "metadata": {
                  "tags": []
                },
                "text": "Clipping input data to the valid range for imshow with RGB data ([0..1] for floats or [0..255] for integers).\n",
                "stream": "stderr"
              },
              {
                "output_type": "stream",
                "metadata": {
                  "tags": []
                },
                "text": "num of slice actual showing 69\n",
                "stream": "stdout"
              },
              {
                "output_type": "display_data",
                "metadata": {
                  "tags": [],
                  "image/png": {
                    "width": 258,
                    "height": 251
                  },
                  "needs_background": "light"
                },
                "image/png": "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\n",
                "text/plain": "<Figure size 432x288 with 1 Axes>"
              }
            ],
            "_view_module": "@jupyter-widgets/output",
            "_model_module_version": "1.0.0",
            "_view_count": null,
            "_view_module_version": "1.0.0",
            "layout": "IPY_MODEL_6d5e1a66776c4b7ba7e70617cdf9c9f8",
            "_model_module": "@jupyter-widgets/output"
          }
        },
        "ef2aed9ae7804881bd04a4dc4c5bcba3": {
          "model_module": "@jupyter-widgets/controls",
          "model_name": "SliderStyleModel",
          "state": {
            "_view_name": "StyleView",
            "handle_color": null,
            "_model_name": "SliderStyleModel",
            "description_width": "",
            "_view_module": "@jupyter-widgets/base",
            "_model_module_version": "1.5.0",
            "_view_count": null,
            "_view_module_version": "1.2.0",
            "_model_module": "@jupyter-widgets/controls"
          }
        },
        "f086c986f063441f9a2f0182472a8455": {
          "model_module": "@jupyter-widgets/base",
          "model_name": "LayoutModel",
          "state": {
            "_view_name": "LayoutView",
            "grid_template_rows": null,
            "right": null,
            "justify_content": null,
            "_view_module": "@jupyter-widgets/base",
            "overflow": null,
            "_model_module_version": "1.2.0",
            "_view_count": null,
            "flex_flow": null,
            "width": null,
            "min_width": null,
            "border": null,
            "align_items": null,
            "bottom": null,
            "_model_module": "@jupyter-widgets/base",
            "top": null,
            "grid_column": null,
            "overflow_y": null,
            "overflow_x": null,
            "grid_auto_flow": null,
            "grid_area": null,
            "grid_template_columns": null,
            "flex": null,
            "_model_name": "LayoutModel",
            "justify_items": null,
            "grid_row": null,
            "max_height": null,
            "align_content": null,
            "visibility": null,
            "align_self": null,
            "height": null,
            "min_height": null,
            "padding": null,
            "grid_auto_rows": null,
            "grid_gap": null,
            "max_width": null,
            "order": null,
            "_view_module_version": "1.2.0",
            "grid_template_areas": null,
            "object_position": null,
            "object_fit": null,
            "grid_auto_columns": null,
            "margin": null,
            "display": null,
            "left": null
          }
        },
        "6d5e1a66776c4b7ba7e70617cdf9c9f8": {
          "model_module": "@jupyter-widgets/base",
          "model_name": "LayoutModel",
          "state": {
            "_view_name": "LayoutView",
            "grid_template_rows": null,
            "right": null,
            "justify_content": null,
            "_view_module": "@jupyter-widgets/base",
            "overflow": null,
            "_model_module_version": "1.2.0",
            "_view_count": null,
            "flex_flow": null,
            "width": null,
            "min_width": null,
            "border": null,
            "align_items": null,
            "bottom": null,
            "_model_module": "@jupyter-widgets/base",
            "top": null,
            "grid_column": null,
            "overflow_y": null,
            "overflow_x": null,
            "grid_auto_flow": null,
            "grid_area": null,
            "grid_template_columns": null,
            "flex": null,
            "_model_name": "LayoutModel",
            "justify_items": null,
            "grid_row": null,
            "max_height": null,
            "align_content": null,
            "visibility": null,
            "align_self": null,
            "height": "350px",
            "min_height": null,
            "padding": null,
            "grid_auto_rows": null,
            "grid_gap": null,
            "max_width": null,
            "order": null,
            "_view_module_version": "1.2.0",
            "grid_template_areas": null,
            "object_position": null,
            "object_fit": null,
            "grid_auto_columns": null,
            "margin": null,
            "display": null,
            "left": null
          }
        },
        "136e81ebc83d48d9be2289f165a8d6b6": {
          "model_module": "@jupyter-widgets/controls",
          "model_name": "VBoxModel",
          "state": {
            "_view_name": "VBoxView",
            "_dom_classes": [
              "widget-interact"
            ],
            "_model_name": "VBoxModel",
            "_view_module": "@jupyter-widgets/controls",
            "_model_module_version": "1.5.0",
            "_view_count": null,
            "_view_module_version": "1.5.0",
            "box_style": "",
            "layout": "IPY_MODEL_62608c62293840e68d30491fcee54181",
            "_model_module": "@jupyter-widgets/controls",
            "children": [
              "IPY_MODEL_3fb5337e509245988db6d6acc9b086d8",
              "IPY_MODEL_2bac9f5bfbc3464bb5511837e85606ec"
            ]
          }
        },
        "62608c62293840e68d30491fcee54181": {
          "model_module": "@jupyter-widgets/base",
          "model_name": "LayoutModel",
          "state": {
            "_view_name": "LayoutView",
            "grid_template_rows": null,
            "right": null,
            "justify_content": null,
            "_view_module": "@jupyter-widgets/base",
            "overflow": null,
            "_model_module_version": "1.2.0",
            "_view_count": null,
            "flex_flow": null,
            "width": null,
            "min_width": null,
            "border": null,
            "align_items": null,
            "bottom": null,
            "_model_module": "@jupyter-widgets/base",
            "top": null,
            "grid_column": null,
            "overflow_y": null,
            "overflow_x": null,
            "grid_auto_flow": null,
            "grid_area": null,
            "grid_template_columns": null,
            "flex": null,
            "_model_name": "LayoutModel",
            "justify_items": null,
            "grid_row": null,
            "max_height": null,
            "align_content": null,
            "visibility": null,
            "align_self": null,
            "height": null,
            "min_height": null,
            "padding": null,
            "grid_auto_rows": null,
            "grid_gap": null,
            "max_width": null,
            "order": null,
            "_view_module_version": "1.2.0",
            "grid_template_areas": null,
            "object_position": null,
            "object_fit": null,
            "grid_auto_columns": null,
            "margin": null,
            "display": null,
            "left": null
          }
        },
        "3fb5337e509245988db6d6acc9b086d8": {
          "model_module": "@jupyter-widgets/controls",
          "model_name": "IntSliderModel",
          "state": {
            "_view_name": "IntSliderView",
            "style": "IPY_MODEL_d235909d83584fbb9b8e85c502cea912",
            "_dom_classes": [],
            "description": "slice_num",
            "step": 1,
            "_model_name": "IntSliderModel",
            "orientation": "horizontal",
            "max": 139,
            "_view_module": "@jupyter-widgets/controls",
            "_model_module_version": "1.5.0",
            "value": 69,
            "_view_count": null,
            "disabled": false,
            "_view_module_version": "1.5.0",
            "min": 0,
            "continuous_update": true,
            "readout_format": "d",
            "description_tooltip": null,
            "readout": true,
            "_model_module": "@jupyter-widgets/controls",
            "layout": "IPY_MODEL_5a89442f62a146eab65915765bf05226"
          }
        },
        "2bac9f5bfbc3464bb5511837e85606ec": {
          "model_module": "@jupyter-widgets/output",
          "model_name": "OutputModel",
          "state": {
            "_view_name": "OutputView",
            "msg_id": "",
            "_dom_classes": [],
            "_model_name": "OutputModel",
            "outputs": [
              {
                "output_type": "stream",
                "metadata": {
                  "tags": []
                },
                "text": "Clipping input data to the valid range for imshow with RGB data ([0..1] for floats or [0..255] for integers).\n",
                "stream": "stderr"
              },
              {
                "output_type": "stream",
                "metadata": {
                  "tags": []
                },
                "text": "num of slice actual showing 69\n",
                "stream": "stdout"
              },
              {
                "output_type": "display_data",
                "metadata": {
                  "tags": [],
                  "image/png": {
                    "width": 258,
                    "height": 251
                  },
                  "needs_background": "light"
                },
                "image/png": "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\n",
                "text/plain": "<Figure size 432x288 with 1 Axes>"
              }
            ],
            "_view_module": "@jupyter-widgets/output",
            "_model_module_version": "1.0.0",
            "_view_count": null,
            "_view_module_version": "1.0.0",
            "layout": "IPY_MODEL_9a174140ce5d407ca5ded148f12b25d2",
            "_model_module": "@jupyter-widgets/output"
          }
        },
        "d235909d83584fbb9b8e85c502cea912": {
          "model_module": "@jupyter-widgets/controls",
          "model_name": "SliderStyleModel",
          "state": {
            "_view_name": "StyleView",
            "handle_color": null,
            "_model_name": "SliderStyleModel",
            "description_width": "",
            "_view_module": "@jupyter-widgets/base",
            "_model_module_version": "1.5.0",
            "_view_count": null,
            "_view_module_version": "1.2.0",
            "_model_module": "@jupyter-widgets/controls"
          }
        },
        "5a89442f62a146eab65915765bf05226": {
          "model_module": "@jupyter-widgets/base",
          "model_name": "LayoutModel",
          "state": {
            "_view_name": "LayoutView",
            "grid_template_rows": null,
            "right": null,
            "justify_content": null,
            "_view_module": "@jupyter-widgets/base",
            "overflow": null,
            "_model_module_version": "1.2.0",
            "_view_count": null,
            "flex_flow": null,
            "width": null,
            "min_width": null,
            "border": null,
            "align_items": null,
            "bottom": null,
            "_model_module": "@jupyter-widgets/base",
            "top": null,
            "grid_column": null,
            "overflow_y": null,
            "overflow_x": null,
            "grid_auto_flow": null,
            "grid_area": null,
            "grid_template_columns": null,
            "flex": null,
            "_model_name": "LayoutModel",
            "justify_items": null,
            "grid_row": null,
            "max_height": null,
            "align_content": null,
            "visibility": null,
            "align_self": null,
            "height": null,
            "min_height": null,
            "padding": null,
            "grid_auto_rows": null,
            "grid_gap": null,
            "max_width": null,
            "order": null,
            "_view_module_version": "1.2.0",
            "grid_template_areas": null,
            "object_position": null,
            "object_fit": null,
            "grid_auto_columns": null,
            "margin": null,
            "display": null,
            "left": null
          }
        },
        "9a174140ce5d407ca5ded148f12b25d2": {
          "model_module": "@jupyter-widgets/base",
          "model_name": "LayoutModel",
          "state": {
            "_view_name": "LayoutView",
            "grid_template_rows": null,
            "right": null,
            "justify_content": null,
            "_view_module": "@jupyter-widgets/base",
            "overflow": null,
            "_model_module_version": "1.2.0",
            "_view_count": null,
            "flex_flow": null,
            "width": null,
            "min_width": null,
            "border": null,
            "align_items": null,
            "bottom": null,
            "_model_module": "@jupyter-widgets/base",
            "top": null,
            "grid_column": null,
            "overflow_y": null,
            "overflow_x": null,
            "grid_auto_flow": null,
            "grid_area": null,
            "grid_template_columns": null,
            "flex": null,
            "_model_name": "LayoutModel",
            "justify_items": null,
            "grid_row": null,
            "max_height": null,
            "align_content": null,
            "visibility": null,
            "align_self": null,
            "height": "350px",
            "min_height": null,
            "padding": null,
            "grid_auto_rows": null,
            "grid_gap": null,
            "max_width": null,
            "order": null,
            "_view_module_version": "1.2.0",
            "grid_template_areas": null,
            "object_position": null,
            "object_fit": null,
            "grid_auto_columns": null,
            "margin": null,
            "display": null,
            "left": null
          }
        },
        "8d58bd3dbcf645e5ac3f7a4cbbb31fcf": {
          "model_module": "@jupyter-widgets/controls",
          "model_name": "VBoxModel",
          "state": {
            "_view_name": "VBoxView",
            "_dom_classes": [
              "widget-interact"
            ],
            "_model_name": "VBoxModel",
            "_view_module": "@jupyter-widgets/controls",
            "_model_module_version": "1.5.0",
            "_view_count": null,
            "_view_module_version": "1.5.0",
            "box_style": "",
            "layout": "IPY_MODEL_cbae7d4baa0d407a853bef273252a564",
            "_model_module": "@jupyter-widgets/controls",
            "children": [
              "IPY_MODEL_ab6ffbd5de3f4ff2b95896b4dcbc8d8d",
              "IPY_MODEL_6ff55a87b09d44718e51498b1a8c80ff"
            ]
          }
        },
        "cbae7d4baa0d407a853bef273252a564": {
          "model_module": "@jupyter-widgets/base",
          "model_name": "LayoutModel",
          "state": {
            "_view_name": "LayoutView",
            "grid_template_rows": null,
            "right": null,
            "justify_content": null,
            "_view_module": "@jupyter-widgets/base",
            "overflow": null,
            "_model_module_version": "1.2.0",
            "_view_count": null,
            "flex_flow": null,
            "width": null,
            "min_width": null,
            "border": null,
            "align_items": null,
            "bottom": null,
            "_model_module": "@jupyter-widgets/base",
            "top": null,
            "grid_column": null,
            "overflow_y": null,
            "overflow_x": null,
            "grid_auto_flow": null,
            "grid_area": null,
            "grid_template_columns": null,
            "flex": null,
            "_model_name": "LayoutModel",
            "justify_items": null,
            "grid_row": null,
            "max_height": null,
            "align_content": null,
            "visibility": null,
            "align_self": null,
            "height": null,
            "min_height": null,
            "padding": null,
            "grid_auto_rows": null,
            "grid_gap": null,
            "max_width": null,
            "order": null,
            "_view_module_version": "1.2.0",
            "grid_template_areas": null,
            "object_position": null,
            "object_fit": null,
            "grid_auto_columns": null,
            "margin": null,
            "display": null,
            "left": null
          }
        },
        "ab6ffbd5de3f4ff2b95896b4dcbc8d8d": {
          "model_module": "@jupyter-widgets/controls",
          "model_name": "IntSliderModel",
          "state": {
            "_view_name": "IntSliderView",
            "style": "IPY_MODEL_85a3c3eddd5a443c98a13b0ad8d28001",
            "_dom_classes": [],
            "description": "slice_num",
            "step": 1,
            "_model_name": "IntSliderModel",
            "orientation": "horizontal",
            "max": 351,
            "_view_module": "@jupyter-widgets/controls",
            "_model_module_version": "1.5.0",
            "value": 144,
            "_view_count": null,
            "disabled": false,
            "_view_module_version": "1.5.0",
            "min": 0,
            "continuous_update": true,
            "readout_format": "d",
            "description_tooltip": null,
            "readout": true,
            "_model_module": "@jupyter-widgets/controls",
            "layout": "IPY_MODEL_183f5d9ea10245f8852041ca3d3f4f5b"
          }
        },
        "6ff55a87b09d44718e51498b1a8c80ff": {
          "model_module": "@jupyter-widgets/output",
          "model_name": "OutputModel",
          "state": {
            "_view_name": "OutputView",
            "msg_id": "",
            "_dom_classes": [],
            "_model_name": "OutputModel",
            "outputs": [
              {
                "output_type": "stream",
                "metadata": {
                  "tags": []
                },
                "text": "Clipping input data to the valid range for imshow with RGB data ([0..1] for floats or [0..255] for integers).\n",
                "stream": "stderr"
              },
              {
                "output_type": "stream",
                "metadata": {
                  "tags": []
                },
                "text": "num of slice actual showing 144\n",
                "stream": "stdout"
              },
              {
                "output_type": "display_data",
                "metadata": {
                  "tags": [],
                  "image/png": {
                    "width": 258,
                    "height": 251
                  },
                  "needs_background": "light"
                },
                "image/png": "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\n",
                "text/plain": "<Figure size 432x288 with 1 Axes>"
              }
            ],
            "_view_module": "@jupyter-widgets/output",
            "_model_module_version": "1.0.0",
            "_view_count": null,
            "_view_module_version": "1.0.0",
            "layout": "IPY_MODEL_8e300cba4ffb41deaa4c4806c0565c3b",
            "_model_module": "@jupyter-widgets/output"
          }
        },
        "85a3c3eddd5a443c98a13b0ad8d28001": {
          "model_module": "@jupyter-widgets/controls",
          "model_name": "SliderStyleModel",
          "state": {
            "_view_name": "StyleView",
            "handle_color": null,
            "_model_name": "SliderStyleModel",
            "description_width": "",
            "_view_module": "@jupyter-widgets/base",
            "_model_module_version": "1.5.0",
            "_view_count": null,
            "_view_module_version": "1.2.0",
            "_model_module": "@jupyter-widgets/controls"
          }
        },
        "183f5d9ea10245f8852041ca3d3f4f5b": {
          "model_module": "@jupyter-widgets/base",
          "model_name": "LayoutModel",
          "state": {
            "_view_name": "LayoutView",
            "grid_template_rows": null,
            "right": null,
            "justify_content": null,
            "_view_module": "@jupyter-widgets/base",
            "overflow": null,
            "_model_module_version": "1.2.0",
            "_view_count": null,
            "flex_flow": null,
            "width": null,
            "min_width": null,
            "border": null,
            "align_items": null,
            "bottom": null,
            "_model_module": "@jupyter-widgets/base",
            "top": null,
            "grid_column": null,
            "overflow_y": null,
            "overflow_x": null,
            "grid_auto_flow": null,
            "grid_area": null,
            "grid_template_columns": null,
            "flex": null,
            "_model_name": "LayoutModel",
            "justify_items": null,
            "grid_row": null,
            "max_height": null,
            "align_content": null,
            "visibility": null,
            "align_self": null,
            "height": null,
            "min_height": null,
            "padding": null,
            "grid_auto_rows": null,
            "grid_gap": null,
            "max_width": null,
            "order": null,
            "_view_module_version": "1.2.0",
            "grid_template_areas": null,
            "object_position": null,
            "object_fit": null,
            "grid_auto_columns": null,
            "margin": null,
            "display": null,
            "left": null
          }
        },
        "8e300cba4ffb41deaa4c4806c0565c3b": {
          "model_module": "@jupyter-widgets/base",
          "model_name": "LayoutModel",
          "state": {
            "_view_name": "LayoutView",
            "grid_template_rows": null,
            "right": null,
            "justify_content": null,
            "_view_module": "@jupyter-widgets/base",
            "overflow": null,
            "_model_module_version": "1.2.0",
            "_view_count": null,
            "flex_flow": null,
            "width": null,
            "min_width": null,
            "border": null,
            "align_items": null,
            "bottom": null,
            "_model_module": "@jupyter-widgets/base",
            "top": null,
            "grid_column": null,
            "overflow_y": null,
            "overflow_x": null,
            "grid_auto_flow": null,
            "grid_area": null,
            "grid_template_columns": null,
            "flex": null,
            "_model_name": "LayoutModel",
            "justify_items": null,
            "grid_row": null,
            "max_height": null,
            "align_content": null,
            "visibility": null,
            "align_self": null,
            "height": "350px",
            "min_height": null,
            "padding": null,
            "grid_auto_rows": null,
            "grid_gap": null,
            "max_width": null,
            "order": null,
            "_view_module_version": "1.2.0",
            "grid_template_areas": null,
            "object_position": null,
            "object_fit": null,
            "grid_auto_columns": null,
            "margin": null,
            "display": null,
            "left": null
          }
        },
        "aed82bf7f3ef44e8b78eeaab834548bb": {
          "model_module": "@jupyter-widgets/controls",
          "model_name": "VBoxModel",
          "state": {
            "_view_name": "VBoxView",
            "_dom_classes": [
              "widget-interact"
            ],
            "_model_name": "VBoxModel",
            "_view_module": "@jupyter-widgets/controls",
            "_model_module_version": "1.5.0",
            "_view_count": null,
            "_view_module_version": "1.5.0",
            "box_style": "",
            "layout": "IPY_MODEL_858319b3b5bd4831a11498a001184e20",
            "_model_module": "@jupyter-widgets/controls",
            "children": [
              "IPY_MODEL_6b1ddee554f049e5a3b8233667539df1",
              "IPY_MODEL_7f9f144a316c4ba2842a221b82d42521"
            ]
          }
        },
        "858319b3b5bd4831a11498a001184e20": {
          "model_module": "@jupyter-widgets/base",
          "model_name": "LayoutModel",
          "state": {
            "_view_name": "LayoutView",
            "grid_template_rows": null,
            "right": null,
            "justify_content": null,
            "_view_module": "@jupyter-widgets/base",
            "overflow": null,
            "_model_module_version": "1.2.0",
            "_view_count": null,
            "flex_flow": null,
            "width": null,
            "min_width": null,
            "border": null,
            "align_items": null,
            "bottom": null,
            "_model_module": "@jupyter-widgets/base",
            "top": null,
            "grid_column": null,
            "overflow_y": null,
            "overflow_x": null,
            "grid_auto_flow": null,
            "grid_area": null,
            "grid_template_columns": null,
            "flex": null,
            "_model_name": "LayoutModel",
            "justify_items": null,
            "grid_row": null,
            "max_height": null,
            "align_content": null,
            "visibility": null,
            "align_self": null,
            "height": null,
            "min_height": null,
            "padding": null,
            "grid_auto_rows": null,
            "grid_gap": null,
            "max_width": null,
            "order": null,
            "_view_module_version": "1.2.0",
            "grid_template_areas": null,
            "object_position": null,
            "object_fit": null,
            "grid_auto_columns": null,
            "margin": null,
            "display": null,
            "left": null
          }
        },
        "6b1ddee554f049e5a3b8233667539df1": {
          "model_module": "@jupyter-widgets/controls",
          "model_name": "IntSliderModel",
          "state": {
            "_view_name": "IntSliderView",
            "style": "IPY_MODEL_53b74a53c70d4c9f936713202338086f",
            "_dom_classes": [],
            "description": "slice_num",
            "step": 1,
            "_model_name": "IntSliderModel",
            "orientation": "horizontal",
            "max": 351,
            "_view_module": "@jupyter-widgets/controls",
            "_model_module_version": "1.5.0",
            "value": 144,
            "_view_count": null,
            "disabled": false,
            "_view_module_version": "1.5.0",
            "min": 0,
            "continuous_update": true,
            "readout_format": "d",
            "description_tooltip": null,
            "readout": true,
            "_model_module": "@jupyter-widgets/controls",
            "layout": "IPY_MODEL_6ea219fcbe4a462b98d21f8a4dfcebf7"
          }
        },
        "7f9f144a316c4ba2842a221b82d42521": {
          "model_module": "@jupyter-widgets/output",
          "model_name": "OutputModel",
          "state": {
            "_view_name": "OutputView",
            "msg_id": "",
            "_dom_classes": [],
            "_model_name": "OutputModel",
            "outputs": [
              {
                "output_type": "stream",
                "metadata": {
                  "tags": []
                },
                "text": "Clipping input data to the valid range for imshow with RGB data ([0..1] for floats or [0..255] for integers).\n",
                "stream": "stderr"
              },
              {
                "output_type": "stream",
                "metadata": {
                  "tags": []
                },
                "text": "num of slice actual showing 144\n",
                "stream": "stdout"
              },
              {
                "output_type": "display_data",
                "metadata": {
                  "tags": [],
                  "image/png": {
                    "width": 258,
                    "height": 251
                  },
                  "needs_background": "light"
                },
                "image/png": "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\n",
                "text/plain": "<Figure size 432x288 with 1 Axes>"
              }
            ],
            "_view_module": "@jupyter-widgets/output",
            "_model_module_version": "1.0.0",
            "_view_count": null,
            "_view_module_version": "1.0.0",
            "layout": "IPY_MODEL_2b833db845a74d9ba33d65c31d9b1e9d",
            "_model_module": "@jupyter-widgets/output"
          }
        },
        "53b74a53c70d4c9f936713202338086f": {
          "model_module": "@jupyter-widgets/controls",
          "model_name": "SliderStyleModel",
          "state": {
            "_view_name": "StyleView",
            "handle_color": null,
            "_model_name": "SliderStyleModel",
            "description_width": "",
            "_view_module": "@jupyter-widgets/base",
            "_model_module_version": "1.5.0",
            "_view_count": null,
            "_view_module_version": "1.2.0",
            "_model_module": "@jupyter-widgets/controls"
          }
        },
        "6ea219fcbe4a462b98d21f8a4dfcebf7": {
          "model_module": "@jupyter-widgets/base",
          "model_name": "LayoutModel",
          "state": {
            "_view_name": "LayoutView",
            "grid_template_rows": null,
            "right": null,
            "justify_content": null,
            "_view_module": "@jupyter-widgets/base",
            "overflow": null,
            "_model_module_version": "1.2.0",
            "_view_count": null,
            "flex_flow": null,
            "width": null,
            "min_width": null,
            "border": null,
            "align_items": null,
            "bottom": null,
            "_model_module": "@jupyter-widgets/base",
            "top": null,
            "grid_column": null,
            "overflow_y": null,
            "overflow_x": null,
            "grid_auto_flow": null,
            "grid_area": null,
            "grid_template_columns": null,
            "flex": null,
            "_model_name": "LayoutModel",
            "justify_items": null,
            "grid_row": null,
            "max_height": null,
            "align_content": null,
            "visibility": null,
            "align_self": null,
            "height": null,
            "min_height": null,
            "padding": null,
            "grid_auto_rows": null,
            "grid_gap": null,
            "max_width": null,
            "order": null,
            "_view_module_version": "1.2.0",
            "grid_template_areas": null,
            "object_position": null,
            "object_fit": null,
            "grid_auto_columns": null,
            "margin": null,
            "display": null,
            "left": null
          }
        },
        "2b833db845a74d9ba33d65c31d9b1e9d": {
          "model_module": "@jupyter-widgets/base",
          "model_name": "LayoutModel",
          "state": {
            "_view_name": "LayoutView",
            "grid_template_rows": null,
            "right": null,
            "justify_content": null,
            "_view_module": "@jupyter-widgets/base",
            "overflow": null,
            "_model_module_version": "1.2.0",
            "_view_count": null,
            "flex_flow": null,
            "width": null,
            "min_width": null,
            "border": null,
            "align_items": null,
            "bottom": null,
            "_model_module": "@jupyter-widgets/base",
            "top": null,
            "grid_column": null,
            "overflow_y": null,
            "overflow_x": null,
            "grid_auto_flow": null,
            "grid_area": null,
            "grid_template_columns": null,
            "flex": null,
            "_model_name": "LayoutModel",
            "justify_items": null,
            "grid_row": null,
            "max_height": null,
            "align_content": null,
            "visibility": null,
            "align_self": null,
            "height": "350px",
            "min_height": null,
            "padding": null,
            "grid_auto_rows": null,
            "grid_gap": null,
            "max_width": null,
            "order": null,
            "_view_module_version": "1.2.0",
            "grid_template_areas": null,
            "object_position": null,
            "object_fit": null,
            "grid_auto_columns": null,
            "margin": null,
            "display": null,
            "left": null
          }
        }
      }
    }
  },
  "cells": [
    {
      "cell_type": "code",
      "metadata": {
        "id": "qckFyeE3S8TY",
        "colab_type": "code",
        "outputId": "21612e97-b647-457e-c5a3-07a39a8532cd",
        "colab": {
          "base_uri": "https://localhost:8080/",
          "height": 147
        }
      },
      "source": [
        "\n",
        "import sys\n",
        "import os\n",
        "\n",
        "google_colab = False\n",
        "\n",
        "if 'google.colab' in sys.modules:\n",
        "  google_colab = True\n",
        "\n",
        "if google_colab:\n",
        "  print(\"have google.colab\")\n",
        "\n",
        "  from google.colab import drive\n",
        "  drive.mount('/content/drive', force_remount=True)\n",
        "\n",
        "  sys.path.append('/content/drive/My Drive/kits/kits19_tumor')\n",
        "\n",
        "#for metacentrum\n",
        "if google_colab == False:\n",
        "  sys.path.append(os.environ['SCRATCHDIR'] + '/kits19_tumor' )\n",
        "\n",
        "sys.path.append('./data_manipulation')\n",
        "sys.path.append('./models')\n",
        "sys.path.append('./slider')\n",
        " "
      ],
      "execution_count": 1,
      "outputs": [
        {
          "output_type": "stream",
          "text": [
            "have google.colab\n",
            "Go to this URL in a browser: https://accounts.google.com/o/oauth2/auth?client_id=947318989803-6bn6qk8qdgf4n4g3pfee6491hc0brc4i.apps.googleusercontent.com&redirect_uri=urn%3aietf%3awg%3aoauth%3a2.0%3aoob&response_type=code&scope=email%20https%3a%2f%2fwww.googleapis.com%2fauth%2fdocs.test%20https%3a%2f%2fwww.googleapis.com%2fauth%2fdrive%20https%3a%2f%2fwww.googleapis.com%2fauth%2fdrive.photos.readonly%20https%3a%2f%2fwww.googleapis.com%2fauth%2fpeopleapi.readonly\n",
            "\n",
            "Enter your authorization code:\n",
            "··········\n",
            "Mounted at /content/drive\n"
          ],
          "name": "stdout"
        }
      ]
    },
    {
      "cell_type": "code",
      "metadata": {
        "id": "uRQOFl0OHaP_",
        "colab_type": "code",
        "outputId": "a9391867-961c-4264-cdec-28593d4c6bd8",
        "colab": {
          "base_uri": "https://localhost:8080/",
          "height": 135
        }
      },
      "source": [
        "from constants import *\n",
        "%tensorflow_version 1.x\n",
        "import tensorflow as tf\n",
        "tf.keras.backend.clear_session()\n",
        "from tensorflow import keras\n",
        "\n",
        "import Kits19_methods as k19\n",
        "import data_load as dl\n",
        "import generator_train as gt\n",
        "from model import Unet2D_small,Unet2D_big, Unet3D\n",
        "from pspNet_small import pspnet_small\n",
        "from pspNet_big import pspnet_big\n",
        "from denseUNet_small import Dense_UNet_small\n",
        "from denseUNet_big import Dense_UNet_big\n",
        "from deeplabv3plus import Deeplabv3\n",
        "from keras.regularizers import l1, l2\n",
        "from keras.layers import Input\n",
        "\n",
        "\n",
        "from class_weight import get_class_weights\n",
        "\n",
        "from loss_function import make_loss, softmax_dice_loss_tune_params\n",
        "import time\n",
        "\n",
        "from keras.optimizers import Adam\n",
        "from keras.utils import multi_gpu_model, to_categorical\n",
        "#from sklearn.utils import class_weight\n",
        "from keras import backend as K\n",
        "\n",
        "\n",
        "from tensorflow.python.client import device_lib\n",
        "\n",
        "print('keras : ' + str(keras.__version__) )\n",
        "print('tf : ' + str(tf.__version__) )"
      ],
      "execution_count": 2,
      "outputs": [
        {
          "output_type": "error",
          "ename": "SyntaxError",
          "evalue": "ignored",
          "traceback": [
            "\u001b[0;36m  File \u001b[0;32m\"<ipython-input-2-c2cd158c94c3>\"\u001b[0;36m, line \u001b[0;32m20\u001b[0m\n\u001b[0;31m    from class_weight\u001b[0m\n\u001b[0m                     ^\u001b[0m\n\u001b[0;31mSyntaxError\u001b[0m\u001b[0;31m:\u001b[0m invalid syntax\n"
          ]
        }
      ]
    },
    {
      "cell_type": "code",
      "metadata": {
        "id": "y2OwjslrHmRO",
        "colab_type": "code",
        "colab": {}
      },
      "source": [
        "\n",
        "import numpy as np\n",
        "import time\n",
        "import matplotlib\n",
        "import matplotlib.pyplot as plt\n",
        "%matplotlib inline \n",
        "%config InlineBackend.figure_format = 'retina'\n",
        "from slider import slice_viewer\n",
        "from keras.models import Sequential,load_model\n",
        "from generator_train import DataGenerator, MyIterator, MyIterator3D\n",
        "\n",
        "#google colab\n",
        "model_name = 'outputs6/Unet2D_small_2020_05_11-17_07_37'\n",
        "model_saved_here = 'output_final_models'\n",
        "if google_colab: \n",
        "  path_to_saved_model = '/content/drive/My Drive/kits/kits19_tumor'+'/'+model_saved_here+'/'+model_name\n",
        "if google_colab == False:\n",
        "  path_to_saved_model = os.environ['SCRATCHDIR'] + '/model_saved'\n",
        "\n",
        "use_softmax = True\n",
        "num_classes = 3\n",
        "use_class_weight = True\n",
        "lr = 0.0001\n",
        "regularizer=l2(0.0001)\n",
        "\n",
        "#rescale = 128 or 512\n",
        "picture_size = 128\n",
        "picture_shape = picture_size\n",
        "num_of_scans = 64 #number of pictures in scans\n",
        "\n",
        "# Parameters --- just to get whole patint in one read/ generator not used for training\n",
        "# generator used only for reading data from files, not training\n",
        "batch_size = 1500 \n",
        "params_gen = {\n",
        "          'batch_size':batch_size, \n",
        "          'dim':(picture_size,picture_size),\n",
        "          'rescale':picture_size, \n",
        "          'n_channels':3,\n",
        "          'shuffle':True\n",
        "         }"
      ],
      "execution_count": 0,
      "outputs": []
    },
    {
      "cell_type": "code",
      "metadata": {
        "id": "814Zu7EG_dAy",
        "colab_type": "code",
        "colab": {}
      },
      "source": [
        "def rgb_to_onehot(rgb_arr, color_dict):\n",
        "    num_classes = len(color_dict)\n",
        "    shape = rgb_arr.shape[:2]+(num_classes,)\n",
        "    arr = np.zeros( shape, dtype=np.int8 )\n",
        "    for i, cls in enumerate(color_dict):\n",
        "        arr[:,:,i] = np.all(rgb_arr.reshape( (-1,3) ) == color_dict[i], axis=1).reshape(shape[:2])\n",
        "    return arr\n",
        "\n",
        "def onehot_to_rgb(onehot, color_dict):\n",
        "    single_layer = np.argmax(onehot, axis=-1)\n",
        "    output = np.zeros( onehot.shape[:2]+(3,) )\n",
        "    for k in color_dict.keys():\n",
        "        output[single_layer==k] = color_dict[k]\n",
        "    return np.uint8(output)\n",
        "\n",
        "def get_class_weights(y_train):\n",
        "  labels = np.argmax(y_train, axis=-1).flat\n",
        "\n",
        "  cls_weight = class_weight.compute_class_weight(\n",
        "      'balanced',\n",
        "      np.unique(labels),\n",
        "      labels\n",
        "    )\n",
        "  quadratic_class_weight = cls_weight * cls_weight\n",
        "  return cls_weight\n",
        "\n",
        "  print('Plain weights', cls_weight)\n",
        "  print('Quadratic weights', quadratic_class_weight)\n",
        "\n",
        "color_dict = {0: (255,   0, 0),\n",
        "              1: (0, 0,   0),\n",
        "              2: (0, 0,   255)}\n"
      ],
      "execution_count": 0,
      "outputs": []
    },
    {
      "cell_type": "code",
      "metadata": {
        "id": "9Nfkt5DQ-Hxj",
        "colab_type": "code",
        "colab": {}
      },
      "source": [
        "# Datasets [0,...,209]\n",
        "patient_num = 207\n",
        "\n",
        "IDs_of_files = [patient_num]\n",
        "# Generators\n",
        "training_generator = DataGenerator(IDs_of_files, **params_gen)\n",
        "dataTemp = next(training_generator)\n",
        "x_train = dataTemp[0]\n",
        "y_train = dataTemp[1] \n",
        "\n"
      ],
      "execution_count": 0,
      "outputs": []
    },
    {
      "cell_type": "code",
      "metadata": {
        "id": "yVJWNwqT2AqF",
        "colab_type": "code",
        "colab": {}
      },
      "source": [
        "#loading model model weights\n",
        "model_weights = '/weights_2D.h5'\n",
        "model_name = 'Unet2D_small_2020_05_11-17_07_37'\n",
        "path_to_saved_model = '/content/drive/My Drive/kits/kits19_tumor'+'/'+model_saved_here+'/'+model_name\n",
        "\n",
        "#Possible names of nets - Unet2D_small pspnet_small pspnet_big Dense_UNet_small Dense_UNet_big Deeplabv3\n",
        "model_name = 'Unet2D_small'\n",
        "regularizer = None"
      ],
      "execution_count": 0,
      "outputs": []
    },
    {
      "cell_type": "code",
      "metadata": {
        "id": "LlUdbduyLrIn",
        "colab_type": "code",
        "colab": {}
      },
      "source": [
        "K.clear_session()\n",
        "# for 2D model\n",
        "if model_name == 'Unet2D_small':\n",
        "  model = Unet2D_small(input_size = (picture_size, picture_size, 3), use_softmax = True, num_classes = num_classes, regularizer=regularizer )\n",
        "\n",
        "elif model_name == 'pspnet_small':\n",
        "  model = pspnet_small(num_classes = num_classes, input_shape = (picture_size, picture_size, 3), regularizer = regularizer )\n",
        "\n",
        "elif model_name == 'pspnet_big':\n",
        "  model = pspnet_big(num_classes = num_classes, input_shape = (picture_size, picture_size, 3), regularizer = regularizer)\n",
        "\n",
        "elif model_name == 'Dense_UNet_small':\n",
        "  input_shape = (picture_shape,picture_shape,3)\n",
        "  input_img = Input(input_shape, name='model_input')\n",
        "  model = Dense_UNet_small(input_img,num_classes = num_classes, dropout=0.05, regularizer = regularizer)\n",
        "\n",
        "elif model_name == 'Dense_UNet_big':\n",
        "  model = Dense_UNet_big(input_shape = (picture_size, picture_size, 3), num_classes = num_classes, regularizer = regularizer)\n",
        "\n",
        "elif model_name == 'Deeplabv3':\n",
        "  model = Deeplabv3( input_shape = (picture_shape,picture_shape,3), num_classes=num_classes, regularizer = regularizer, load_weights_from_internet = False)\n",
        "else:\n",
        "  raise ValueError(\"Network is not implemented yet\")\n",
        "\n",
        "if google_colab:\n",
        "  if os.path.exists(path_to_saved_model + model_weights):\n",
        "    model.load_weights( path_to_saved_model+model_weights )\n",
        "    for i in range(5):\n",
        "      print('Weights loaded !')\n",
        "\n",
        "model.compile(optimizer = Adam(lr = lr), loss = 'categorical_crossentropy', metrics=['accuracy','mae'] )"
      ],
      "execution_count": 0,
      "outputs": []
    },
    {
      "cell_type": "code",
      "metadata": {
        "id": "JsGGRcR3ATmI",
        "colab_type": "code",
        "outputId": "78d2dcb1-24d5-43ac-a4fb-dc5bf01ef484",
        "colab": {
          "base_uri": "https://localhost:8080/",
          "height": 473,
          "referenced_widgets": [
            "40cac1468ddc47d0a5d3fa737b78e2be",
            "68c5338e571247b6b55ad1786a261507",
            "d325c676848d4e9dbaf1017b07ba1fa4",
            "913383acd12e406583d1da60faab894e",
            "ef2aed9ae7804881bd04a4dc4c5bcba3",
            "f086c986f063441f9a2f0182472a8455",
            "6d5e1a66776c4b7ba7e70617cdf9c9f8"
          ]
        }
      },
      "source": [
        "out = model.predict(x_train)\n",
        "\n",
        "from keras.utils import to_categorical\n",
        "\n",
        "max_arg = np.argmax(out, axis=-1)\n",
        "out_pic = to_categorical(max_arg, num_classes = 3)\n",
        "\n",
        "out_img = np.zeros(out_pic.shape)\n",
        "for i in range(len(out_pic)):\n",
        "  out_img[i] = onehot_to_rgb(out_pic[i],color_dict)\n",
        "Ynew = out_img\n",
        "\n",
        "def only_one_channel(Ynew,channel = None):\n",
        "  cp = Ynew.copy()\n",
        "  if channel is not None:\n",
        "    for i in range(3):\n",
        "      if channel == i :\n",
        "        continue\n",
        "      cp[:,:,:,i] = 0\n",
        "  return cp\n",
        "slice_viewer(only_one_channel(Ynew), step=1 )\n"
      ],
      "execution_count": 10,
      "outputs": [
        {
          "output_type": "stream",
          "text": [
            "WARNING:tensorflow:From /usr/local/lib/python3.6/dist-packages/keras/backend/tensorflow_backend.py:422: The name tf.global_variables is deprecated. Please use tf.compat.v1.global_variables instead.\n",
            "\n"
          ],
          "name": "stdout"
        },
        {
          "output_type": "display_data",
          "data": {
            "application/vnd.jupyter.widget-view+json": {
              "model_id": "40cac1468ddc47d0a5d3fa737b78e2be",
              "version_minor": 0,
              "version_major": 2
            },
            "text/plain": [
              "interactive(children=(IntSlider(value=69, description='slice_num', max=139), Output(layout=Layout(height='350p…"
            ]
          },
          "metadata": {
            "tags": []
          }
        }
      ]
    },
    {
      "cell_type": "code",
      "metadata": {
        "id": "8FIDW1KNoqZA",
        "colab_type": "code",
        "outputId": "54994371-4315-45a4-e0ec-5eab149286ae",
        "colab": {
          "base_uri": "https://localhost:8080/",
          "height": 416,
          "referenced_widgets": [
            "136e81ebc83d48d9be2289f165a8d6b6",
            "62608c62293840e68d30491fcee54181",
            "3fb5337e509245988db6d6acc9b086d8",
            "2bac9f5bfbc3464bb5511837e85606ec",
            "d235909d83584fbb9b8e85c502cea912",
            "5a89442f62a146eab65915765bf05226",
            "9a174140ce5d407ca5ded148f12b25d2"
          ]
        }
      },
      "source": [
        "slice_viewer( y_train, step=1 )"
      ],
      "execution_count": 11,
      "outputs": [
        {
          "output_type": "display_data",
          "data": {
            "application/vnd.jupyter.widget-view+json": {
              "model_id": "136e81ebc83d48d9be2289f165a8d6b6",
              "version_minor": 0,
              "version_major": 2
            },
            "text/plain": [
              "interactive(children=(IntSlider(value=69, description='slice_num', max=139), Output(layout=Layout(height='350p…"
            ]
          },
          "metadata": {
            "tags": []
          }
        }
      ]
    },
    {
      "cell_type": "code",
      "metadata": {
        "id": "QFIQTD2eywol",
        "colab_type": "code",
        "colab": {}
      },
      "source": [
        "#--------------------------------\n",
        "# 3D model starts here\n",
        "#--------------------------------"
      ],
      "execution_count": 0,
      "outputs": []
    },
    {
      "cell_type": "code",
      "metadata": {
        "id": "alVC8uKfjDms",
        "colab_type": "code",
        "colab": {}
      },
      "source": [
        "patient_num = 207\n",
        "\n",
        "# Datasets\n",
        "IDs_of_files = [patient_num]\n",
        "# Generators\n",
        "training_generator = DataGenerator(IDs_of_files, **params_gen)\n",
        "dataTemp = next(training_generator)\n",
        "x_train = dataTemp[0]\n",
        "y_train = dataTemp[1] "
      ],
      "execution_count": 0,
      "outputs": []
    },
    {
      "cell_type": "code",
      "metadata": {
        "id": "RCC-KobWx2IM",
        "colab_type": "code",
        "colab": {}
      },
      "source": [
        "batch_size_3D = 2\n",
        "patch_size_3D = 32\n",
        "\n",
        "rest = len(x_train) % patch_size_3D\n",
        "if(rest != 0):\n",
        "  x_train = x_train[:-rest]\n",
        "  y_train = y_train[:-rest]\n",
        "  \n",
        "x_train_reshaped = x_train.reshape(( int(len(x_train) / patch_size_3D) ,patch_size_3D,128,128,3))\n",
        "y_train_reshaped = y_train.reshape(( int(len(y_train) / patch_size_3D),patch_size_3D,128,128,3))\n",
        "\n",
        "print(x_train_reshaped.shape)\n",
        "print(y_train_reshaped.shape)"
      ],
      "execution_count": 0,
      "outputs": []
    },
    {
      "cell_type": "code",
      "metadata": {
        "id": "Q48eFybl9O4T",
        "colab_type": "code",
        "outputId": "217f3393-b1e3-44fe-f17c-0dab2cd0e59d",
        "colab": {
          "base_uri": "https://localhost:8080/",
          "height": 109
        }
      },
      "source": [
        "# loading weights\n",
        "model_weights = '/weights_3D.h5'\n",
        "# model_weights = '/weights-3D-20.h5'\n",
        "model_name = 'outputs6/Unet3D_2020_05_25-18_53_28'\n",
        "model_saved_here = 'output_final_models'\n",
        "if google_colab: \n",
        "  path_to_saved_model = '/content/drive/My Drive/kits/kits19_tumor'+'/'+model_saved_here+'/'+model_name\n",
        "\n",
        "model = Unet3D(input_shape=(patch_size_3D,128,128,3), n_filters=48,depth = 3, use_softmax = use_softmax,n_labels=num_classes, regularizer = regularizer)\n",
        "        # Compile model\n",
        "model.compile(optimizer = Adam(lr = lr), loss = 'categorical_crossentropy', metrics=['accuracy','mae'] )\n",
        "if google_colab:\n",
        "  if os.path.exists(path_to_saved_model + model_weights):\n",
        "    pass\n",
        "    model.load_weights( path_to_saved_model+model_weights )\n",
        "    for i in range(5):\n",
        "      print('Weights loaded !')"
      ],
      "execution_count": 0,
      "outputs": [
        {
          "output_type": "stream",
          "text": [
            "Weights loaded !\n",
            "Weights loaded !\n",
            "Weights loaded !\n",
            "Weights loaded !\n",
            "Weights loaded !\n"
          ],
          "name": "stdout"
        }
      ]
    },
    {
      "cell_type": "code",
      "metadata": {
        "id": "xpTjEy4zrbIw",
        "colab_type": "code",
        "outputId": "356c5f49-8003-4d5f-c8bd-d0b8c965838a",
        "colab": {
          "base_uri": "https://localhost:8080/",
          "height": 35
        }
      },
      "source": [
        "\n",
        "gen3D = MyIterator3D( len(x_train_reshaped), batch_size = len(x_train_reshaped), shuffle = False, seed = 42 , training = False , x = x_train_reshaped, y = y_train_reshaped)\n",
        "out_x,out_y = next(gen3D)\n",
        "print(out_x.shape)\n"
      ],
      "execution_count": 0,
      "outputs": [
        {
          "output_type": "stream",
          "text": [
            "(11, 32, 128, 128, 3)\n"
          ],
          "name": "stdout"
        }
      ]
    },
    {
      "cell_type": "code",
      "metadata": {
        "id": "p9safioxrdFj",
        "colab_type": "code",
        "colab": {}
      },
      "source": [
        "def predict_whole_patient(out_x,out_y,model):\n",
        "  len_x = len(out_x)\n",
        "  add_one = len(out_x) % 2\n",
        "  x,y = None,None\n",
        "  for i in range(len_x):\n",
        "    tmp_x = out_x[i]\n",
        "\n",
        "    Ynew = model.predict( tmp_x.reshape( (1,) + tmp_x.shape) )\n",
        "    Ynew = Ynew.reshape((-1,)+ Ynew.shape[-3:])\n",
        "    tmp_x = tmp_x.reshape((-1,)+ tmp_x.shape[-3:])\n",
        "\n",
        "    if x is None:\n",
        "      x = tmp_x\n",
        "      y = Ynew\n",
        "    else:\n",
        "      x = np.concatenate((x,tmp_x))\n",
        "      y = np.concatenate((y,Ynew))  \n",
        "  return x,y\n"
      ],
      "execution_count": 0,
      "outputs": []
    },
    {
      "cell_type": "code",
      "metadata": {
        "id": "OfnJpjvpiKZO",
        "colab_type": "code",
        "colab": {}
      },
      "source": [
        "from keras.utils import to_categorical\n",
        "\n",
        "out_whole_patient_x, out_whole_patient_y = predict_whole_patient(out_x,out_y,model)\n",
        "x_patient = out_whole_patient_x\n",
        "Ynew = out_whole_patient_y\n",
        "\n",
        "max_arg = np.argmax(Ynew, axis=-1)\n",
        "out_pic = to_categorical(max_arg, num_classes = 3)\n",
        "out_img = np.zeros(out_pic.shape)\n",
        "for i in range(len(out_pic)):\n",
        "  out_img[i] = onehot_to_rgb(out_pic[i],color_dict)\n",
        "Ynew = out_img\n"
      ],
      "execution_count": 0,
      "outputs": []
    },
    {
      "cell_type": "code",
      "metadata": {
        "id": "YJL-HhmEiWTF",
        "colab_type": "code",
        "outputId": "7e52da34-fd60-414c-cce7-3def29b4a86a",
        "colab": {
          "base_uri": "https://localhost:8080/",
          "height": 399,
          "referenced_widgets": [
            "8d58bd3dbcf645e5ac3f7a4cbbb31fcf",
            "cbae7d4baa0d407a853bef273252a564",
            "ab6ffbd5de3f4ff2b95896b4dcbc8d8d",
            "6ff55a87b09d44718e51498b1a8c80ff",
            "85a3c3eddd5a443c98a13b0ad8d28001",
            "183f5d9ea10245f8852041ca3d3f4f5b",
            "8e300cba4ffb41deaa4c4806c0565c3b"
          ]
        }
      },
      "source": [
        "slice_viewer(Ynew,step=1)\n"
      ],
      "execution_count": 0,
      "outputs": [
        {
          "output_type": "display_data",
          "data": {
            "application/vnd.jupyter.widget-view+json": {
              "model_id": "8d58bd3dbcf645e5ac3f7a4cbbb31fcf",
              "version_minor": 0,
              "version_major": 2
            },
            "text/plain": [
              "interactive(children=(IntSlider(value=175, description='slice_num', max=351), Output(layout=Layout(height='350…"
            ]
          },
          "metadata": {
            "tags": []
          }
        }
      ]
    },
    {
      "cell_type": "code",
      "metadata": {
        "id": "Dz1wGfvlrI_S",
        "colab_type": "code",
        "outputId": "2d64fff3-1e21-46e5-bea8-5bada269f150",
        "colab": {
          "base_uri": "https://localhost:8080/",
          "height": 399,
          "referenced_widgets": [
            "aed82bf7f3ef44e8b78eeaab834548bb",
            "858319b3b5bd4831a11498a001184e20",
            "6b1ddee554f049e5a3b8233667539df1",
            "7f9f144a316c4ba2842a221b82d42521",
            "53b74a53c70d4c9f936713202338086f",
            "6ea219fcbe4a462b98d21f8a4dfcebf7",
            "2b833db845a74d9ba33d65c31d9b1e9d"
          ]
        }
      },
      "source": [
        "slice_viewer(y_train,step=1)\n"
      ],
      "execution_count": 0,
      "outputs": [
        {
          "output_type": "display_data",
          "data": {
            "application/vnd.jupyter.widget-view+json": {
              "model_id": "aed82bf7f3ef44e8b78eeaab834548bb",
              "version_minor": 0,
              "version_major": 2
            },
            "text/plain": [
              "interactive(children=(IntSlider(value=175, description='slice_num', max=351), Output(layout=Layout(height='350…"
            ]
          },
          "metadata": {
            "tags": []
          }
        }
      ]
    },
    {
      "cell_type": "code",
      "metadata": {
        "id": "SatCkiLyqDEi",
        "colab_type": "code",
        "colab": {}
      },
      "source": [
        "# # saving photos of prediction and ground truth\n",
        "\n",
        "# net2D = True\n",
        "# patient = patient_num\n",
        "\n",
        "# for i in range(start,stop+1):\n",
        "#   num = i\n",
        "#   name_new   = 'pic_predicted_3D_'+str(i) \n",
        "#   name_train = 'pic_ground_truth_3D_'+str(i)\n",
        "#   if net2D == True:\n",
        "#     name_new   = 'pic_predicted_2D_'+str(i) \n",
        "#     name_train = 'pic_ground_truth_2D_'+str(i)\n",
        "\n",
        "#   weak_kidney = Ynew[num]\n",
        "#   whole_kidney = y_train[num]\n",
        "\n",
        "#   from PIL import Image\n",
        "#   import matplotlib\n",
        "#   new_pic = weak_kidney.copy()\n",
        "#   arr = whole_kidney.copy()\n",
        "\n",
        "#   #arr /= 255.0\n",
        "\n",
        "#   new_pic /= 255.0\n",
        "#   new_pic = np.clip(new_pic, a_min =0.0, a_max = 1.0) \n",
        "\n",
        "#   arr = np.clip(arr, a_min =0.0, a_max = 1.0) \n",
        "\n",
        "#   if net2D == False:\n",
        "#     matplotlib.image.imsave('/content/drive/My Drive/kits/bachelor_thesis/bakalarka_fotky_appendix/patient_'+str(patient)+'/predicted_3D/'+name_new+'.png', new_pic)\n",
        "#     matplotlib.image.imsave('/content/drive/My Drive/kits/bachelor_thesis/bakalarka_fotky_appendix/patient_'+str(patient)+'/true_3D/'+name_train+'.png', arr)\n",
        "#   else:\n",
        "#     matplotlib.image.imsave('/content/drive/My Drive/kits/bachelor_thesis/bakalarka_fotky_appendix/patient_'+str(patient)+'/predicted_2D/'+name_new+'.png', new_pic)\n",
        "#     matplotlib.image.imsave('/content/drive/My Drive/kits/bachelor_thesis/bakalarka_fotky_appendix/patient_'+str(patient)+'/true_2D/'+name_train+'.png', arr)"
      ],
      "execution_count": 0,
      "outputs": []
    },
    {
      "cell_type": "code",
      "metadata": {
        "id": "5iAlb8e-q38K",
        "colab_type": "code",
        "colab": {}
      },
      "source": [
        "\n",
        "# # tensorboard part\n",
        "\n",
        "# %load_ext tensorboard\n",
        "# import tensorflow as tf\n",
        "# import datetime\n",
        "# import os\n",
        "\n",
        "# #os.getcwd()\n",
        "# os.chdir('/content/drive/My Drive/kits/kits19_tumor')\n",
        "# %tensorboard --logdir='logs/'\n",
        "\n",
        "# #tensorboard part\n",
        "# #tensorboard part"
      ],
      "execution_count": 0,
      "outputs": []
    }
  ]
}